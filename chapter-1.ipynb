{
 "cells": [
  {
   "cell_type": "markdown",
   "metadata": {},
   "source": [
    "# 第一章 绪论"
   ]
  },
  {
   "cell_type": "markdown",
   "metadata": {},
   "source": [
    "## 1.1 引言"
   ]
  },
  {
   "cell_type": "markdown",
   "metadata": {},
   "source": [
    "机器学习是研究关于“学习算法”的学问。"
   ]
  },
  {
   "cell_type": "markdown",
   "metadata": {},
   "source": [
    "* 模型(model)： 泛指从数据中学得的结果\n",
    "* 模型： 全局性结果，一棵决策树\n",
    "* 模式： 局部性结果，例如一条规则"
   ]
  },
  {
   "cell_type": "markdown",
   "metadata": {},
   "source": [
    "* 数据集(dataset)：记录的集合\n",
    "* 示例（Instance）或样本（Sample）：每条记录是关于事件或对象的描述\n",
    "* 属性（attribute) 或特征（feature): 反映事件或对象在某方面的表现或性质的事项\n",
    "* 属性值（attribute value):属性上的取值\n",
    "* 属性空间（atrribute space)、样本空间（sample space)或输入空间（input space):事件或对象的所有被关心的属性张成的空间\n",
    "* 特征向量 （feature vector):属性空间中的每个点对应一个坐标向量，每个示例称为一个特征向量"
   ]
  },
  {
   "cell_type": "markdown",
   "metadata": {},
   "source": [
    "* 学习（learning) 或训练（training): 从数据中学得模型的过程 \n",
    "* 训练数据（training data)\n",
    "* 训练样本（training sample)\n",
    "* 训练集 （training set)：\n",
    "* 假设（hypothesis）：学得模型对应了关于数据的某种潜在的规律\n",
    "* 真相或真实（ground-truth):学习的过程就是为找出可逼近真相\n",
    "* 学习器（learner): 学习算法在给定数据和参数空间上的实例化"
   ]
  },
  {
   "cell_type": "markdown",
   "metadata": {},
   "source": [
    "* 标记（label）：关于示例结果的信息\n",
    "* 样例（example):  拥有了标记信息的示例 \n",
    "* 标记空间（label space) 或输出空间：所有标记的集合"
   ]
  },
  {
   "cell_type": "markdown",
   "metadata": {},
   "source": [
    "* 分类（classification)： 预测的是离散值\n",
    "* 回归(regression)：连续值\n",
    "* 二分类问题（binary classification)\n",
    "* 正类（positive class)\n",
    "* 负类或反类（negative class)\n",
    "* 多分类（multi-class classification)"
   ]
  },
  {
   "cell_type": "markdown",
   "metadata": {},
   "source": [
    "通过对训练集\n",
    "$$\n",
    "\\{(\\mathbf x_1, y_1), (\\mathbf x_2, y_2), \\ldots, (\\mathbf x_m, y_m)\\}\n",
    "$$\n",
    "进行学习， 建立一个从输入空间 $\\mathcal X$ 到 输出空间 $\\mathcal Y$ 的映射 \n",
    "$$\n",
    "f: \\mathcal X \\to \\mathcal Y\n",
    "$$"
   ]
  },
  {
   "cell_type": "markdown",
   "metadata": {},
   "source": [
    "* 测试（testing): 觉得模型后，使用其进行预测的过程 \n",
    "* 测试样本（testing sample)：被测试的样本 "
   ]
  },
  {
   "cell_type": "markdown",
   "metadata": {},
   "source": [
    "* "
   ]
  }
 ],
 "metadata": {
  "kernelspec": {
   "display_name": "Python 3",
   "language": "python",
   "name": "python3"
  },
  "language_info": {
   "codemirror_mode": {
    "name": "ipython",
    "version": 3
   },
   "file_extension": ".py",
   "mimetype": "text/x-python",
   "name": "python",
   "nbconvert_exporter": "python",
   "pygments_lexer": "ipython3",
   "version": "3.5.2"
  },
  "latex_envs": {
   "bibliofile": "biblio.bib",
   "cite_by": "apalike",
   "current_citInitial": 1,
   "eqLabelWithNumbers": true,
   "eqNumInitial": 0
  }
 },
 "nbformat": 4,
 "nbformat_minor": 1
}
